{
 "cells": [
  {
   "cell_type": "markdown",
   "id": "44afbad3-ec98-4d01-9748-fb2d1227e4da",
   "metadata": {},
   "source": [
    "<h3>0. Importing Libraries</h3>\n",
    "<p>Started by importing the necessary Python library for data manipulation:</p>"
   ]
  },
  {
   "cell_type": "code",
   "execution_count": 16,
   "id": "5741afd1-fe27-48d0-ae5e-c14944fe1904",
   "metadata": {},
   "outputs": [],
   "source": [
    "import pandas as pd"
   ]
  },
  {
   "cell_type": "markdown",
   "id": "2139eaa1-27d7-49f5-a781-f6bf60341736",
   "metadata": {},
   "source": [
    "<h3>1. Loading the Dataset</h3>\n",
    "<p>The dataset was loaded from a CSV file using the <code>pd.read_csv()</code> function:</p>\n",
    "\n",
    "<pre><code>df = pd.read_csv(\"Mall_Customers.csv\")</code></pre>\n",
    "\n",
    "<p>This creates a DataFrame named <code>df</code> containing the data from the file <code>Mall_Customers.csv</code>. It’s the foundational step before beginning any cleaning or analysis.</p>"
   ]
  },
  {
   "cell_type": "code",
   "execution_count": 17,
   "id": "46ec6aa1-3882-44e0-9afc-6e5780493f40",
   "metadata": {},
   "outputs": [],
   "source": [
    "# Load the dataset\n",
    "df = pd.read_csv(r\"D:\\Internship\\DataSet\\Mall_Customers.csv\")"
   ]
  },
  {
   "cell_type": "markdown",
   "id": "af4d5cd3-bbd6-41a5-9cce-7f4ed185707b",
   "metadata": {},
   "source": [
    "<h2>2. Data Cleaning Steps</h2>"
   ]
  },
  {
   "cell_type": "code",
   "execution_count": 18,
   "id": "c27ad7fa-d946-4c5a-a7da-ad5b3b8a9994",
   "metadata": {
    "scrolled": true
   },
   "outputs": [
    {
     "name": "stdout",
     "output_type": "stream",
     "text": [
      "Missing values before handling:\n",
      " CustomerID                0\n",
      "Gender                    0\n",
      "Age                       0\n",
      "Annual Income (k$)        0\n",
      "Spending Score (1-100)    0\n",
      "dtype: int64\n"
     ]
    }
   ],
   "source": [
    "#  Identify and handle missing values\n",
    "print(\"Missing values before handling:\\n\", df.isnull().sum())"
   ]
  },
  {
   "cell_type": "markdown",
   "id": "3d3c9745-0dcd-4f5d-aafb-2a7718543a4b",
   "metadata": {},
   "source": [
    "<h3>3. Handling Missing Values</h3>\n",
    "<p>We identified missing values using the <code>.isnull()</code> method. If any rows contained missing data, they were removed using <code>.dropna()</code>. Alternatively, missing values could be imputed using <code>.fillna()</code> with a default or calculated value.</p>\n"
   ]
  },
  {
   "cell_type": "code",
   "execution_count": 19,
   "id": "674a3b5f-4b7c-4945-8b99-1d8178485efa",
   "metadata": {},
   "outputs": [],
   "source": [
    "# Fill or drop missing values\n",
    "df = df.dropna()  # Or use df.fillna(value) if you prefer filling\n"
   ]
  },
  {
   "cell_type": "markdown",
   "id": "22c1bf9e-c602-455a-9f41-f7325c4113ea",
   "metadata": {},
   "source": [
    "<h3>4. Removing Duplicate Rows</h3>\n",
    "<p>Duplicate records were eliminated from the dataset using <code>.drop_duplicates()</code> to ensure data integrity and prevent biased results during analysis.</p>\n",
    "\n"
   ]
  },
  {
   "cell_type": "code",
   "execution_count": 20,
   "id": "2a847975-b635-4bcf-b591-629dafa57f93",
   "metadata": {},
   "outputs": [],
   "source": [
    "#  Remove duplicate rows\n",
    "df = df.drop_duplicates()"
   ]
  },
  {
   "cell_type": "markdown",
   "id": "0f3fdfc1-883e-4bef-9cea-1cfb2eb7c20a",
   "metadata": {},
   "source": [
    "<h3>4. Standardizing Text Values</h3>\n",
    "<p>To ensure consistency, especially for categorical text data (like gender), all string values were stripped of leading/trailing whitespace and converted to lowercase using <code>.str.strip().str.lower()</code>.</p>"
   ]
  },
  {
   "cell_type": "code",
   "execution_count": 21,
   "id": "37e3ed34-65ba-469e-8da9-25c3328053e7",
   "metadata": {},
   "outputs": [],
   "source": [
    "#  Standardize text values (example: Gender column)\n",
    "if 'Gender' in df.columns:\n",
    "    df['Gender'] = df['Gender'].str.strip().str.lower()\n",
    "\n"
   ]
  },
  {
   "cell_type": "markdown",
   "id": "f9fff673-13b3-484e-8090-b3f818bed2c2",
   "metadata": {},
   "source": [
    "<h3>5. Converting Date Formats</h3>\n",
    "<p>We checked for any columns representing dates (e.g., 'Date') and converted them into a consistent datetime format using <code>pd.to_datetime()</code>. This ensures reliable time-based analysis and filtering.</p>\n"
   ]
  },
  {
   "cell_type": "code",
   "execution_count": 22,
   "id": "ed24c62e-33fb-4298-a3ed-c67a92c9f137",
   "metadata": {},
   "outputs": [],
   "source": [
    "# . Convert date formats to consistent type (assuming a date column exists)\n",
    "# Replace 'Date' with your actual column name if it exists\n",
    "if 'Date' in df.columns:\n",
    "    df['Date'] = pd.to_datetime(df['Date'], dayfirst=True)"
   ]
  },
  {
   "cell_type": "markdown",
   "id": "fbf3fc43-b681-4ec5-9705-02dfa8a58b9c",
   "metadata": {},
   "source": [
    "<h3>6. Renaming Column Headers</h3>\n",
    "<p>To standardize and clean up the column names, we:\n",
    "<ul>\n",
    "  <li>Converted all column names to lowercase</li>\n",
    "  <li>Replaced spaces with underscores</li>\n",
    "  <li>Removed leading/trailing spaces</li>\n",
    "</ul>\n",
    "This was done using <code>df.columns.str.strip().str.lower().str.replace(' ', '_')</code>.</p>"
   ]
  },
  {
   "cell_type": "code",
   "execution_count": 23,
   "id": "1de12496-a4ca-4f12-944d-42e8aeea67f3",
   "metadata": {},
   "outputs": [],
   "source": [
    "#  Rename column headers to be clean and uniform\n",
    "df.columns = df.columns.str.strip().str.lower().str.replace(' ', '_')\n",
    "\n"
   ]
  },
  {
   "cell_type": "markdown",
   "id": "f8296073-7c3a-4e4d-83f3-99610bc41e7b",
   "metadata": {},
   "source": [
    "<h3>7. Checking and Fixing Data Types</h3>\n",
    "<p>We ensured numerical fields like <strong>age</strong> were properly typed by using <code>pd.to_numeric()</code> and converted to <code>int</code> after handling any conversion errors. This is essential for mathematical operations and modeling.</p>"
   ]
  },
  {
   "cell_type": "code",
   "execution_count": 24,
   "id": "086d9839-3853-4c15-9999-fe14cdabc3cc",
   "metadata": {},
   "outputs": [],
   "source": [
    "# 7. Check and fix data types\n",
    "# Example: converting 'age' to integer\n",
    "if 'age' in df.columns:\n",
    "    df['age'] = pd.to_numeric(df['age'], errors='coerce').fillna(0).astype(int)\n",
    "\n"
   ]
  },
  {
   "cell_type": "code",
   "execution_count": 25,
   "id": "48bcf765-e1c8-4d8d-be5e-11aec9fd89b1",
   "metadata": {},
   "outputs": [
    {
     "name": "stdout",
     "output_type": "stream",
     "text": [
      "\n",
      "Cleaned Data Info:\n",
      "<class 'pandas.core.frame.DataFrame'>\n",
      "RangeIndex: 200 entries, 0 to 199\n",
      "Data columns (total 5 columns):\n",
      " #   Column                  Non-Null Count  Dtype \n",
      "---  ------                  --------------  ----- \n",
      " 0   customerid              200 non-null    int64 \n",
      " 1   gender                  200 non-null    object\n",
      " 2   age                     200 non-null    int32 \n",
      " 3   annual_income_(k$)      200 non-null    int64 \n",
      " 4   spending_score_(1-100)  200 non-null    int64 \n",
      "dtypes: int32(1), int64(3), object(1)\n",
      "memory usage: 7.2+ KB\n",
      "None\n"
     ]
    }
   ],
   "source": [
    "# Show cleaned dataset info\n",
    "print(\"\\nCleaned Data Info:\")\n",
    "print(df.info())\n",
    "\n"
   ]
  },
  {
   "cell_type": "markdown",
   "id": "d7bd3652-6f1d-4ca9-8d0a-0d283df7f249",
   "metadata": {},
   "source": [
    "<h3>8. Saving Cleaned Data</h3>\n",
    "<p>The cleaned dataset was saved as a new CSV file using <code>df.to_csv()</code> for future analysis or model training.</p>\n"
   ]
  },
  {
   "cell_type": "code",
   "execution_count": 26,
   "id": "9c12b847-edb7-4a9f-b6b7-1d2ea9a6271c",
   "metadata": {},
   "outputs": [
    {
     "name": "stdout",
     "output_type": "stream",
     "text": [
      "✅ Cleaned data saved as 'Mall_Customers_Cleaned.csv'\n"
     ]
    }
   ],
   "source": [
    "# Save cleaned data to current directory\n",
    "df.to_csv(\"Mall_Customers_Cleaned.csv\", index=False)\n",
    "print(\"✅ Cleaned data saved as 'Mall_Customers_Cleaned.csv'\")"
   ]
  }
 ],
 "metadata": {
  "kernelspec": {
   "display_name": "Python 3 (ipykernel)",
   "language": "python",
   "name": "python3"
  },
  "language_info": {
   "codemirror_mode": {
    "name": "ipython",
    "version": 3
   },
   "file_extension": ".py",
   "mimetype": "text/x-python",
   "name": "python",
   "nbconvert_exporter": "python",
   "pygments_lexer": "ipython3",
   "version": "3.12.7"
  }
 },
 "nbformat": 4,
 "nbformat_minor": 5
}
